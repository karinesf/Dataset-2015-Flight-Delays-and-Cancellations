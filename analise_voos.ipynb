{
 "cells": [
  {
   "cell_type": "markdown",
   "metadata": {},
   "source": [
    " \n",
    " # Dataset 2015 Flight Delays and Cancellations"
   ]
  },
  {
   "cell_type": "markdown",
   "metadata": {},
   "source": [
    "- Os objetivos pretendidos neste notebook são:\n",
    "  - Fazer uma análise exploratória do dataset;\n",
    "  - Implementar um modelo de ML que consiga classificar bem os voos que atrasaram ou não."
   ]
  },
  {
   "cell_type": "code",
   "execution_count": 1,
   "metadata": {},
   "outputs": [],
   "source": [
    "#Importação das bibliotecas necessárias\n",
    "import pandas as pd\n",
    "import matplotlib.pyplot as plt\n",
    "import numpy as np\n",
    "import seaborn as sns\n",
    "import sklearn\n",
    "from sklearn.preprocessing import LabelEncoder\n",
    "from datetime import datetime\n",
    "import warnings\n",
    "warnings.filterwarnings('ignore')\n",
    "\n",
    "# Bibliotecas para treinamento e cálculo de métricas \n",
    "from sklearn.model_selection import train_test_split \n",
    "from sklearn.ensemble import RandomForestClassifier\n",
    "from sklearn.metrics import accuracy_score \n",
    "from sklearn.metrics import confusion_matrix \n",
    "from sklearn.metrics import ConfusionMatrixDisplay\n",
    "from sklearn.metrics import precision_score\n",
    "from sklearn.metrics import recall_score\n",
    "from sklearn.metrics import f1_score\n",
    "from sklearn.metrics import plot_roc_curve\n",
    "from sklearn.linear_model import LogisticRegression \n",
    "from sklearn import preprocessing\n",
    "from xgboost import XGBClassifier\n",
    "from sklearn.inspection import permutation_importance"
   ]
  },
  {
   "cell_type": "code",
   "execution_count": 2,
   "metadata": {},
   "outputs": [],
   "source": [
    "#Função para formatar a matriz de correlação\n",
    "def plot_corr_matrix(corr_matrix, size=(14, 14)):\n",
    "  # Configurando a figura do matplotlib\n",
    "  fig, ax = plt.subplots(figsize=size)\n",
    "\n",
    "  # Gerando um mapa de cores divergente personalizado\n",
    "  cmap = sns.diverging_palette(220, 10, as_cmap=True)\n",
    "\n",
    "  # Gerando uma máscara para o triângulo superior\n",
    "  mask = np.triu(np.ones_like(corr_matrix.corr(), dtype=np.bool))\n",
    "\n",
    "  # Desenhando o mapa de calor com a máscara e a proporção correta\n",
    "  sns.heatmap(corr_matrix.corr(), mask=mask, cmap=cmap, vmax=.99, center=0,\n",
    "              square=True, linewidths=.5, cbar_kws={\"shrink\": .5})"
   ]
  },
  {
   "cell_type": "code",
   "execution_count": 3,
   "metadata": {},
   "outputs": [],
   "source": [
    "# Função para construir gráfico de barras\n",
    "def grafico_barras_prop(data, variable):\n",
    "    (data[[variable]]\n",
    "     .value_counts(normalize=True, sort = False)\n",
    "     .rename(\"Proportion\")\n",
    "     .reset_index()\n",
    "     .pipe((sns.barplot, \"data\"), x=variable, y=\"Proportion\"))\n",
    "    plt.ylim(0,1)\n",
    "    plt.show()"
   ]
  },
  {
   "cell_type": "markdown",
   "metadata": {},
   "source": [
    "#### EDA / Pré-processamento e limpeza dos dados "
   ]
  },
  {
   "cell_type": "code",
   "execution_count": 4,
   "metadata": {},
   "outputs": [],
   "source": [
    "#Leitura dos datasets\n",
    "df_airline = pd.read_csv(\"airlines.csv\")\n",
    "df_airports = pd.read_csv(\"airports.csv\")\n",
    "df_flights = pd.read_csv(\"flights.csv\")"
   ]
  },
  {
   "cell_type": "code",
   "execution_count": 5,
   "metadata": {},
   "outputs": [
    {
     "data": {
      "text/html": [
       "<div>\n",
       "<style scoped>\n",
       "    .dataframe tbody tr th:only-of-type {\n",
       "        vertical-align: middle;\n",
       "    }\n",
       "\n",
       "    .dataframe tbody tr th {\n",
       "        vertical-align: top;\n",
       "    }\n",
       "\n",
       "    .dataframe thead th {\n",
       "        text-align: right;\n",
       "    }\n",
       "</style>\n",
       "<table border=\"1\" class=\"dataframe\">\n",
       "  <thead>\n",
       "    <tr style=\"text-align: right;\">\n",
       "      <th></th>\n",
       "      <th>IATA_CODE</th>\n",
       "      <th>AIRLINE</th>\n",
       "    </tr>\n",
       "  </thead>\n",
       "  <tbody>\n",
       "    <tr>\n",
       "      <th>0</th>\n",
       "      <td>UA</td>\n",
       "      <td>United Air Lines Inc.</td>\n",
       "    </tr>\n",
       "    <tr>\n",
       "      <th>1</th>\n",
       "      <td>AA</td>\n",
       "      <td>American Airlines Inc.</td>\n",
       "    </tr>\n",
       "    <tr>\n",
       "      <th>2</th>\n",
       "      <td>US</td>\n",
       "      <td>US Airways Inc.</td>\n",
       "    </tr>\n",
       "    <tr>\n",
       "      <th>3</th>\n",
       "      <td>F9</td>\n",
       "      <td>Frontier Airlines Inc.</td>\n",
       "    </tr>\n",
       "    <tr>\n",
       "      <th>4</th>\n",
       "      <td>B6</td>\n",
       "      <td>JetBlue Airways</td>\n",
       "    </tr>\n",
       "  </tbody>\n",
       "</table>\n",
       "</div>"
      ],
      "text/plain": [
       "  IATA_CODE                 AIRLINE\n",
       "0        UA   United Air Lines Inc.\n",
       "1        AA  American Airlines Inc.\n",
       "2        US         US Airways Inc.\n",
       "3        F9  Frontier Airlines Inc.\n",
       "4        B6         JetBlue Airways"
      ]
     },
     "execution_count": 5,
     "metadata": {},
     "output_type": "execute_result"
    }
   ],
   "source": [
    "df_airline.head()"
   ]
  },
  {
   "cell_type": "code",
   "execution_count": 6,
   "metadata": {},
   "outputs": [
    {
     "data": {
      "text/plain": [
       "(14, 2)"
      ]
     },
     "execution_count": 6,
     "metadata": {},
     "output_type": "execute_result"
    }
   ],
   "source": [
    "df_airline.shape"
   ]
  },
  {
   "cell_type": "code",
   "execution_count": 7,
   "metadata": {},
   "outputs": [
    {
     "data": {
      "text/html": [
       "<div>\n",
       "<style scoped>\n",
       "    .dataframe tbody tr th:only-of-type {\n",
       "        vertical-align: middle;\n",
       "    }\n",
       "\n",
       "    .dataframe tbody tr th {\n",
       "        vertical-align: top;\n",
       "    }\n",
       "\n",
       "    .dataframe thead th {\n",
       "        text-align: right;\n",
       "    }\n",
       "</style>\n",
       "<table border=\"1\" class=\"dataframe\">\n",
       "  <thead>\n",
       "    <tr style=\"text-align: right;\">\n",
       "      <th></th>\n",
       "      <th>IATA_CODE</th>\n",
       "      <th>AIRPORT</th>\n",
       "      <th>CITY</th>\n",
       "      <th>STATE</th>\n",
       "      <th>COUNTRY</th>\n",
       "      <th>LATITUDE</th>\n",
       "      <th>LONGITUDE</th>\n",
       "    </tr>\n",
       "  </thead>\n",
       "  <tbody>\n",
       "    <tr>\n",
       "      <th>0</th>\n",
       "      <td>ABE</td>\n",
       "      <td>Lehigh Valley International Airport</td>\n",
       "      <td>Allentown</td>\n",
       "      <td>PA</td>\n",
       "      <td>USA</td>\n",
       "      <td>40.65236</td>\n",
       "      <td>-75.44040</td>\n",
       "    </tr>\n",
       "    <tr>\n",
       "      <th>1</th>\n",
       "      <td>ABI</td>\n",
       "      <td>Abilene Regional Airport</td>\n",
       "      <td>Abilene</td>\n",
       "      <td>TX</td>\n",
       "      <td>USA</td>\n",
       "      <td>32.41132</td>\n",
       "      <td>-99.68190</td>\n",
       "    </tr>\n",
       "    <tr>\n",
       "      <th>2</th>\n",
       "      <td>ABQ</td>\n",
       "      <td>Albuquerque International Sunport</td>\n",
       "      <td>Albuquerque</td>\n",
       "      <td>NM</td>\n",
       "      <td>USA</td>\n",
       "      <td>35.04022</td>\n",
       "      <td>-106.60919</td>\n",
       "    </tr>\n",
       "    <tr>\n",
       "      <th>3</th>\n",
       "      <td>ABR</td>\n",
       "      <td>Aberdeen Regional Airport</td>\n",
       "      <td>Aberdeen</td>\n",
       "      <td>SD</td>\n",
       "      <td>USA</td>\n",
       "      <td>45.44906</td>\n",
       "      <td>-98.42183</td>\n",
       "    </tr>\n",
       "    <tr>\n",
       "      <th>4</th>\n",
       "      <td>ABY</td>\n",
       "      <td>Southwest Georgia Regional Airport</td>\n",
       "      <td>Albany</td>\n",
       "      <td>GA</td>\n",
       "      <td>USA</td>\n",
       "      <td>31.53552</td>\n",
       "      <td>-84.19447</td>\n",
       "    </tr>\n",
       "  </tbody>\n",
       "</table>\n",
       "</div>"
      ],
      "text/plain": [
       "  IATA_CODE                              AIRPORT         CITY STATE COUNTRY  \\\n",
       "0       ABE  Lehigh Valley International Airport    Allentown    PA     USA   \n",
       "1       ABI             Abilene Regional Airport      Abilene    TX     USA   \n",
       "2       ABQ    Albuquerque International Sunport  Albuquerque    NM     USA   \n",
       "3       ABR            Aberdeen Regional Airport     Aberdeen    SD     USA   \n",
       "4       ABY   Southwest Georgia Regional Airport       Albany    GA     USA   \n",
       "\n",
       "   LATITUDE  LONGITUDE  \n",
       "0  40.65236  -75.44040  \n",
       "1  32.41132  -99.68190  \n",
       "2  35.04022 -106.60919  \n",
       "3  45.44906  -98.42183  \n",
       "4  31.53552  -84.19447  "
      ]
     },
     "execution_count": 7,
     "metadata": {},
     "output_type": "execute_result"
    }
   ],
   "source": [
    "df_airports.head()"
   ]
  },
  {
   "cell_type": "code",
   "execution_count": 8,
   "metadata": {},
   "outputs": [
    {
     "data": {
      "text/plain": [
       "(322, 7)"
      ]
     },
     "execution_count": 8,
     "metadata": {},
     "output_type": "execute_result"
    }
   ],
   "source": [
    "df_airports.shape"
   ]
  },
  {
   "cell_type": "code",
   "execution_count": 9,
   "metadata": {},
   "outputs": [
    {
     "data": {
      "text/html": [
       "<div>\n",
       "<style scoped>\n",
       "    .dataframe tbody tr th:only-of-type {\n",
       "        vertical-align: middle;\n",
       "    }\n",
       "\n",
       "    .dataframe tbody tr th {\n",
       "        vertical-align: top;\n",
       "    }\n",
       "\n",
       "    .dataframe thead th {\n",
       "        text-align: right;\n",
       "    }\n",
       "</style>\n",
       "<table border=\"1\" class=\"dataframe\">\n",
       "  <thead>\n",
       "    <tr style=\"text-align: right;\">\n",
       "      <th></th>\n",
       "      <th>YEAR</th>\n",
       "      <th>MONTH</th>\n",
       "      <th>DAY</th>\n",
       "      <th>DAY_OF_WEEK</th>\n",
       "      <th>AIRLINE</th>\n",
       "      <th>FLIGHT_NUMBER</th>\n",
       "      <th>TAIL_NUMBER</th>\n",
       "      <th>ORIGIN_AIRPORT</th>\n",
       "      <th>DESTINATION_AIRPORT</th>\n",
       "      <th>SCHEDULED_DEPARTURE</th>\n",
       "      <th>...</th>\n",
       "      <th>ARRIVAL_TIME</th>\n",
       "      <th>ARRIVAL_DELAY</th>\n",
       "      <th>DIVERTED</th>\n",
       "      <th>CANCELLED</th>\n",
       "      <th>CANCELLATION_REASON</th>\n",
       "      <th>AIR_SYSTEM_DELAY</th>\n",
       "      <th>SECURITY_DELAY</th>\n",
       "      <th>AIRLINE_DELAY</th>\n",
       "      <th>LATE_AIRCRAFT_DELAY</th>\n",
       "      <th>WEATHER_DELAY</th>\n",
       "    </tr>\n",
       "  </thead>\n",
       "  <tbody>\n",
       "    <tr>\n",
       "      <th>0</th>\n",
       "      <td>2015</td>\n",
       "      <td>1</td>\n",
       "      <td>1</td>\n",
       "      <td>4</td>\n",
       "      <td>AS</td>\n",
       "      <td>98</td>\n",
       "      <td>N407AS</td>\n",
       "      <td>ANC</td>\n",
       "      <td>SEA</td>\n",
       "      <td>5</td>\n",
       "      <td>...</td>\n",
       "      <td>408.0</td>\n",
       "      <td>-22.0</td>\n",
       "      <td>0</td>\n",
       "      <td>0</td>\n",
       "      <td>NaN</td>\n",
       "      <td>NaN</td>\n",
       "      <td>NaN</td>\n",
       "      <td>NaN</td>\n",
       "      <td>NaN</td>\n",
       "      <td>NaN</td>\n",
       "    </tr>\n",
       "    <tr>\n",
       "      <th>1</th>\n",
       "      <td>2015</td>\n",
       "      <td>1</td>\n",
       "      <td>1</td>\n",
       "      <td>4</td>\n",
       "      <td>AA</td>\n",
       "      <td>2336</td>\n",
       "      <td>N3KUAA</td>\n",
       "      <td>LAX</td>\n",
       "      <td>PBI</td>\n",
       "      <td>10</td>\n",
       "      <td>...</td>\n",
       "      <td>741.0</td>\n",
       "      <td>-9.0</td>\n",
       "      <td>0</td>\n",
       "      <td>0</td>\n",
       "      <td>NaN</td>\n",
       "      <td>NaN</td>\n",
       "      <td>NaN</td>\n",
       "      <td>NaN</td>\n",
       "      <td>NaN</td>\n",
       "      <td>NaN</td>\n",
       "    </tr>\n",
       "    <tr>\n",
       "      <th>2</th>\n",
       "      <td>2015</td>\n",
       "      <td>1</td>\n",
       "      <td>1</td>\n",
       "      <td>4</td>\n",
       "      <td>US</td>\n",
       "      <td>840</td>\n",
       "      <td>N171US</td>\n",
       "      <td>SFO</td>\n",
       "      <td>CLT</td>\n",
       "      <td>20</td>\n",
       "      <td>...</td>\n",
       "      <td>811.0</td>\n",
       "      <td>5.0</td>\n",
       "      <td>0</td>\n",
       "      <td>0</td>\n",
       "      <td>NaN</td>\n",
       "      <td>NaN</td>\n",
       "      <td>NaN</td>\n",
       "      <td>NaN</td>\n",
       "      <td>NaN</td>\n",
       "      <td>NaN</td>\n",
       "    </tr>\n",
       "    <tr>\n",
       "      <th>3</th>\n",
       "      <td>2015</td>\n",
       "      <td>1</td>\n",
       "      <td>1</td>\n",
       "      <td>4</td>\n",
       "      <td>AA</td>\n",
       "      <td>258</td>\n",
       "      <td>N3HYAA</td>\n",
       "      <td>LAX</td>\n",
       "      <td>MIA</td>\n",
       "      <td>20</td>\n",
       "      <td>...</td>\n",
       "      <td>756.0</td>\n",
       "      <td>-9.0</td>\n",
       "      <td>0</td>\n",
       "      <td>0</td>\n",
       "      <td>NaN</td>\n",
       "      <td>NaN</td>\n",
       "      <td>NaN</td>\n",
       "      <td>NaN</td>\n",
       "      <td>NaN</td>\n",
       "      <td>NaN</td>\n",
       "    </tr>\n",
       "    <tr>\n",
       "      <th>4</th>\n",
       "      <td>2015</td>\n",
       "      <td>1</td>\n",
       "      <td>1</td>\n",
       "      <td>4</td>\n",
       "      <td>AS</td>\n",
       "      <td>135</td>\n",
       "      <td>N527AS</td>\n",
       "      <td>SEA</td>\n",
       "      <td>ANC</td>\n",
       "      <td>25</td>\n",
       "      <td>...</td>\n",
       "      <td>259.0</td>\n",
       "      <td>-21.0</td>\n",
       "      <td>0</td>\n",
       "      <td>0</td>\n",
       "      <td>NaN</td>\n",
       "      <td>NaN</td>\n",
       "      <td>NaN</td>\n",
       "      <td>NaN</td>\n",
       "      <td>NaN</td>\n",
       "      <td>NaN</td>\n",
       "    </tr>\n",
       "    <tr>\n",
       "      <th>5</th>\n",
       "      <td>2015</td>\n",
       "      <td>1</td>\n",
       "      <td>1</td>\n",
       "      <td>4</td>\n",
       "      <td>DL</td>\n",
       "      <td>806</td>\n",
       "      <td>N3730B</td>\n",
       "      <td>SFO</td>\n",
       "      <td>MSP</td>\n",
       "      <td>25</td>\n",
       "      <td>...</td>\n",
       "      <td>610.0</td>\n",
       "      <td>8.0</td>\n",
       "      <td>0</td>\n",
       "      <td>0</td>\n",
       "      <td>NaN</td>\n",
       "      <td>NaN</td>\n",
       "      <td>NaN</td>\n",
       "      <td>NaN</td>\n",
       "      <td>NaN</td>\n",
       "      <td>NaN</td>\n",
       "    </tr>\n",
       "    <tr>\n",
       "      <th>6</th>\n",
       "      <td>2015</td>\n",
       "      <td>1</td>\n",
       "      <td>1</td>\n",
       "      <td>4</td>\n",
       "      <td>NK</td>\n",
       "      <td>612</td>\n",
       "      <td>N635NK</td>\n",
       "      <td>LAS</td>\n",
       "      <td>MSP</td>\n",
       "      <td>25</td>\n",
       "      <td>...</td>\n",
       "      <td>509.0</td>\n",
       "      <td>-17.0</td>\n",
       "      <td>0</td>\n",
       "      <td>0</td>\n",
       "      <td>NaN</td>\n",
       "      <td>NaN</td>\n",
       "      <td>NaN</td>\n",
       "      <td>NaN</td>\n",
       "      <td>NaN</td>\n",
       "      <td>NaN</td>\n",
       "    </tr>\n",
       "    <tr>\n",
       "      <th>7</th>\n",
       "      <td>2015</td>\n",
       "      <td>1</td>\n",
       "      <td>1</td>\n",
       "      <td>4</td>\n",
       "      <td>US</td>\n",
       "      <td>2013</td>\n",
       "      <td>N584UW</td>\n",
       "      <td>LAX</td>\n",
       "      <td>CLT</td>\n",
       "      <td>30</td>\n",
       "      <td>...</td>\n",
       "      <td>753.0</td>\n",
       "      <td>-10.0</td>\n",
       "      <td>0</td>\n",
       "      <td>0</td>\n",
       "      <td>NaN</td>\n",
       "      <td>NaN</td>\n",
       "      <td>NaN</td>\n",
       "      <td>NaN</td>\n",
       "      <td>NaN</td>\n",
       "      <td>NaN</td>\n",
       "    </tr>\n",
       "    <tr>\n",
       "      <th>8</th>\n",
       "      <td>2015</td>\n",
       "      <td>1</td>\n",
       "      <td>1</td>\n",
       "      <td>4</td>\n",
       "      <td>AA</td>\n",
       "      <td>1112</td>\n",
       "      <td>N3LAAA</td>\n",
       "      <td>SFO</td>\n",
       "      <td>DFW</td>\n",
       "      <td>30</td>\n",
       "      <td>...</td>\n",
       "      <td>532.0</td>\n",
       "      <td>-13.0</td>\n",
       "      <td>0</td>\n",
       "      <td>0</td>\n",
       "      <td>NaN</td>\n",
       "      <td>NaN</td>\n",
       "      <td>NaN</td>\n",
       "      <td>NaN</td>\n",
       "      <td>NaN</td>\n",
       "      <td>NaN</td>\n",
       "    </tr>\n",
       "    <tr>\n",
       "      <th>9</th>\n",
       "      <td>2015</td>\n",
       "      <td>1</td>\n",
       "      <td>1</td>\n",
       "      <td>4</td>\n",
       "      <td>DL</td>\n",
       "      <td>1173</td>\n",
       "      <td>N826DN</td>\n",
       "      <td>LAS</td>\n",
       "      <td>ATL</td>\n",
       "      <td>30</td>\n",
       "      <td>...</td>\n",
       "      <td>656.0</td>\n",
       "      <td>-15.0</td>\n",
       "      <td>0</td>\n",
       "      <td>0</td>\n",
       "      <td>NaN</td>\n",
       "      <td>NaN</td>\n",
       "      <td>NaN</td>\n",
       "      <td>NaN</td>\n",
       "      <td>NaN</td>\n",
       "      <td>NaN</td>\n",
       "    </tr>\n",
       "  </tbody>\n",
       "</table>\n",
       "<p>10 rows × 31 columns</p>\n",
       "</div>"
      ],
      "text/plain": [
       "   YEAR  MONTH  DAY  DAY_OF_WEEK AIRLINE  FLIGHT_NUMBER TAIL_NUMBER  \\\n",
       "0  2015      1    1            4      AS             98      N407AS   \n",
       "1  2015      1    1            4      AA           2336      N3KUAA   \n",
       "2  2015      1    1            4      US            840      N171US   \n",
       "3  2015      1    1            4      AA            258      N3HYAA   \n",
       "4  2015      1    1            4      AS            135      N527AS   \n",
       "5  2015      1    1            4      DL            806      N3730B   \n",
       "6  2015      1    1            4      NK            612      N635NK   \n",
       "7  2015      1    1            4      US           2013      N584UW   \n",
       "8  2015      1    1            4      AA           1112      N3LAAA   \n",
       "9  2015      1    1            4      DL           1173      N826DN   \n",
       "\n",
       "  ORIGIN_AIRPORT DESTINATION_AIRPORT  SCHEDULED_DEPARTURE  ...  ARRIVAL_TIME  \\\n",
       "0            ANC                 SEA                    5  ...         408.0   \n",
       "1            LAX                 PBI                   10  ...         741.0   \n",
       "2            SFO                 CLT                   20  ...         811.0   \n",
       "3            LAX                 MIA                   20  ...         756.0   \n",
       "4            SEA                 ANC                   25  ...         259.0   \n",
       "5            SFO                 MSP                   25  ...         610.0   \n",
       "6            LAS                 MSP                   25  ...         509.0   \n",
       "7            LAX                 CLT                   30  ...         753.0   \n",
       "8            SFO                 DFW                   30  ...         532.0   \n",
       "9            LAS                 ATL                   30  ...         656.0   \n",
       "\n",
       "   ARRIVAL_DELAY  DIVERTED  CANCELLED  CANCELLATION_REASON  AIR_SYSTEM_DELAY  \\\n",
       "0          -22.0         0          0                  NaN               NaN   \n",
       "1           -9.0         0          0                  NaN               NaN   \n",
       "2            5.0         0          0                  NaN               NaN   \n",
       "3           -9.0         0          0                  NaN               NaN   \n",
       "4          -21.0         0          0                  NaN               NaN   \n",
       "5            8.0         0          0                  NaN               NaN   \n",
       "6          -17.0         0          0                  NaN               NaN   \n",
       "7          -10.0         0          0                  NaN               NaN   \n",
       "8          -13.0         0          0                  NaN               NaN   \n",
       "9          -15.0         0          0                  NaN               NaN   \n",
       "\n",
       "   SECURITY_DELAY  AIRLINE_DELAY  LATE_AIRCRAFT_DELAY  WEATHER_DELAY  \n",
       "0             NaN            NaN                  NaN            NaN  \n",
       "1             NaN            NaN                  NaN            NaN  \n",
       "2             NaN            NaN                  NaN            NaN  \n",
       "3             NaN            NaN                  NaN            NaN  \n",
       "4             NaN            NaN                  NaN            NaN  \n",
       "5             NaN            NaN                  NaN            NaN  \n",
       "6             NaN            NaN                  NaN            NaN  \n",
       "7             NaN            NaN                  NaN            NaN  \n",
       "8             NaN            NaN                  NaN            NaN  \n",
       "9             NaN            NaN                  NaN            NaN  \n",
       "\n",
       "[10 rows x 31 columns]"
      ]
     },
     "execution_count": 9,
     "metadata": {},
     "output_type": "execute_result"
    }
   ],
   "source": [
    "df_flights.head(10)"
   ]
  },
  {
   "cell_type": "code",
   "execution_count": 10,
   "metadata": {},
   "outputs": [
    {
     "data": {
      "text/plain": [
       "(5819079, 31)"
      ]
     },
     "execution_count": 10,
     "metadata": {},
     "output_type": "execute_result"
    }
   ],
   "source": [
    "df_flights.shape"
   ]
  },
  {
   "cell_type": "markdown",
   "metadata": {},
   "source": [
    "#### A partir de agora irei focar apenas no dataset 'df_flights' para as análises e modelagem"
   ]
  },
  {
   "cell_type": "markdown",
   "metadata": {},
   "source": [
    "#### Descrição das variáveis do dataset:\n",
    "- YEAR\t= Year of the Flight Trip /  Ano da Viagem do Voo (Somente ano de 2015)\n",
    "- MONTH\t= Month of the Flight Trip / Mês da Viagem do Voo (de 1 a 12)\n",
    "- DAY =\tDay of the Flight Trip/ Dia da Viagem do Voo ( de 1 a 31)\n",
    "- DAY_OF_WEEK = Day of week of the Flight Trip/ Dia da semana da viagem do voo (representado de 1 a 7 - começando na segunda)\n",
    "- AIRLINE = Airline Identifier/ Identificador da Companhia Aérea (sigla 2 letras)\n",
    "- FLIGHT_NUMBER\t= Flight Identifier/ Identificador do Voo (4 números)\n",
    "- TAIL_NUMBER = Aircraft Identifier/ Identificador da Aeronave (letras e números)\n",
    "- ORIGIN_AIRPORT = Starting Airport/ Aeroporto de partida (sigla 3 letras)\n",
    "- DESTINATION_AIRPORT = Destination Airport/ Aeroporto de Destino (sigla 3 letras)\n",
    "- SCHEDULED_DEPARTURE = Planned Departure Time/ Horário planejado de partida (tempo em horas marinha) \n",
    "- DEPARTURE_TIME = WHEEL_OFF - TAXI_OUT /  horário realmente de partida da pista de taxi (tempo em horas marinha)\n",
    "- DEPARTURE_DELAY = Total Delay on Departure/ Atraso total na partida (tempo em minutos)\n",
    "- TAXI_OUT = The time duration elapsed between departure from the origin airport gate and wheels off / A duração do tempo decorrido entre a - partida do portão do aeroporto de origem até tirar as rodas do chão (tempo em minutos)\n",
    "- WHEELS_OFF = The time point that the aircraft's wheels leave the ground / O ponto de tempo em que as rodas da aeronave saem do chão (tempo em horas)\n",
    "- SCHEDULED_TIME = Planned time amount needed for the flight trip/ Quantidade de tempo planejada necessária para a viagem, tempo de voo (tempo em minutos)\n",
    "- ELAPSED_TIME = AIR_TIME+TAXI_IN+TAXI_OUT / TEMPO DE AR + ENTRADA DE TÁXI + SAÍDA DE TÁXI (tempo em minutos)\n",
    "- AIR_TIME = The time duration between wheels_off and wheels_on time / A duração do tempo entre as rodas desligadas e as rodas no ar (tempo em minutos)\n",
    "- DISTANCE = Distance between two airports/ Distância entre dois aeroportos (em milhas)\n",
    "- WHEELS_ON = The time point that the aircraft's wheels touch on the ground/ O ponto de tempo em que as rodas da aeronave tocam no chão (tempo em horas)\n",
    "- TAXI_IN = The time duration elapsed between wheels-on and gate arrival at the destination airport/ A duração do tempo decorrido do pouso até a chegada no portão do aeroporto de destino (tempo em minutos)\n",
    "- SCHEDULED_ARRIVAL\t= Planned arrival time/ Hora de chegada planejada (tempo em horas)\n",
    "- ARRIVAL_TIME\t= WHEELS_ON+TAXI_IN / RODAS LIGADAS + ENTRADA DE TÁXI = (tempo em horas)\n",
    "- ARRIVAL_DELAY\t= ARRIVAL_TIME-SCHEDULED_ARRIVAL/ atraso da chegada (tempo em minutos)\n",
    "- DIVERTED\t= Aircraft landed on airport that out of schedule/ A aeronave pousou em um aeroporto fora do cronograma (boolean 1 = sim)\n",
    "- CANCELLED\t= Flight Cancelled (1 = cancelled)/ Voo Cancelado (1 = cancelado)\n",
    "- CANCELLATION_REASON = Reason for Cancellation of flight: A - Airline/Carrier; B - Weather; C - National Air System; D - Security/ Motivo do cancelamento do voo: A - Companhia aérea/Transportadora; B - Clima; C - Sistema Aéreo Nacional; D - Segurança\n",
    "- AIR_SYSTEM_DELAY\t= Delay caused by air system/ Atraso causado pelo sistema aéreo\n",
    "- SECURITY_DELAY = Delay caused by security/ Atraso causado pela segurança\n",
    "- AIRLINE_DELAY\t= Delay caused by the airline/ Atraso causado pela companhia aérea\n",
    "- LATE_AIRCRAFT_DELAY = Delay caused by aircraft/ Atraso causado por aeronaves\n",
    "- WEATHER_DELAY\t= Delay caused by weather/ Atraso causado pelo clima\n"
   ]
  },
  {
   "cell_type": "code",
   "execution_count": 11,
   "metadata": {},
   "outputs": [
    {
     "name": "stdout",
     "output_type": "stream",
     "text": [
      "<class 'pandas.core.frame.DataFrame'>\n",
      "RangeIndex: 5819079 entries, 0 to 5819078\n",
      "Data columns (total 31 columns):\n",
      " #   Column               Dtype  \n",
      "---  ------               -----  \n",
      " 0   YEAR                 int64  \n",
      " 1   MONTH                int64  \n",
      " 2   DAY                  int64  \n",
      " 3   DAY_OF_WEEK          int64  \n",
      " 4   AIRLINE              object \n",
      " 5   FLIGHT_NUMBER        int64  \n",
      " 6   TAIL_NUMBER          object \n",
      " 7   ORIGIN_AIRPORT       object \n",
      " 8   DESTINATION_AIRPORT  object \n",
      " 9   SCHEDULED_DEPARTURE  int64  \n",
      " 10  DEPARTURE_TIME       float64\n",
      " 11  DEPARTURE_DELAY      float64\n",
      " 12  TAXI_OUT             float64\n",
      " 13  WHEELS_OFF           float64\n",
      " 14  SCHEDULED_TIME       float64\n",
      " 15  ELAPSED_TIME         float64\n",
      " 16  AIR_TIME             float64\n",
      " 17  DISTANCE             int64  \n",
      " 18  WHEELS_ON            float64\n",
      " 19  TAXI_IN              float64\n",
      " 20  SCHEDULED_ARRIVAL    int64  \n",
      " 21  ARRIVAL_TIME         float64\n",
      " 22  ARRIVAL_DELAY        float64\n",
      " 23  DIVERTED             int64  \n",
      " 24  CANCELLED            int64  \n",
      " 25  CANCELLATION_REASON  object \n",
      " 26  AIR_SYSTEM_DELAY     float64\n",
      " 27  SECURITY_DELAY       float64\n",
      " 28  AIRLINE_DELAY        float64\n",
      " 29  LATE_AIRCRAFT_DELAY  float64\n",
      " 30  WEATHER_DELAY        float64\n",
      "dtypes: float64(16), int64(10), object(5)\n",
      "memory usage: 1.3+ GB\n"
     ]
    }
   ],
   "source": [
    "# Verificando os tipos das variáveis\n",
    "df_flights.info()"
   ]
  },
  {
   "cell_type": "code",
   "execution_count": 12,
   "metadata": {},
   "outputs": [],
   "source": [
    "# Transformando as variáveis com tipo object em categoricas\n",
    "# Criando função para atender aos requisitos acima\n",
    "def mudar_tipo(x):\n",
    "\n",
    "    if x.dtype == \"object\":\n",
    "        return x.astype(\"category\")\n",
    "    return x\n",
    "\n",
    "df_flights= df_flights.apply(lambda x: mudar_tipo(x))"
   ]
  },
  {
   "cell_type": "code",
   "execution_count": 13,
   "metadata": {},
   "outputs": [
    {
     "data": {
      "text/plain": [
       "0"
      ]
     },
     "execution_count": 13,
     "metadata": {},
     "output_type": "execute_result"
    }
   ],
   "source": [
    "# Verificando valores duplicados\n",
    "df_flights.duplicated().sum()"
   ]
  },
  {
   "cell_type": "code",
   "execution_count": 14,
   "metadata": {},
   "outputs": [
    {
     "data": {
      "text/plain": [
       "YEAR                         0\n",
       "MONTH                        0\n",
       "DAY                          0\n",
       "DAY_OF_WEEK                  0\n",
       "AIRLINE                      0\n",
       "FLIGHT_NUMBER                0\n",
       "TAIL_NUMBER              14721\n",
       "ORIGIN_AIRPORT               0\n",
       "DESTINATION_AIRPORT          0\n",
       "SCHEDULED_DEPARTURE          0\n",
       "DEPARTURE_TIME           86153\n",
       "DEPARTURE_DELAY          86153\n",
       "TAXI_OUT                 89047\n",
       "WHEELS_OFF               89047\n",
       "SCHEDULED_TIME               6\n",
       "ELAPSED_TIME            105071\n",
       "AIR_TIME                105071\n",
       "DISTANCE                     0\n",
       "WHEELS_ON                92513\n",
       "TAXI_IN                  92513\n",
       "SCHEDULED_ARRIVAL            0\n",
       "ARRIVAL_TIME             92513\n",
       "ARRIVAL_DELAY           105071\n",
       "DIVERTED                     0\n",
       "CANCELLED                    0\n",
       "CANCELLATION_REASON    5729195\n",
       "AIR_SYSTEM_DELAY       4755640\n",
       "SECURITY_DELAY         4755640\n",
       "AIRLINE_DELAY          4755640\n",
       "LATE_AIRCRAFT_DELAY    4755640\n",
       "WEATHER_DELAY          4755640\n",
       "dtype: int64"
      ]
     },
     "execution_count": 14,
     "metadata": {},
     "output_type": "execute_result"
    }
   ],
   "source": [
    "# Verificando valores nulos \n",
    "df_flights.isnull().sum()"
   ]
  },
  {
   "cell_type": "code",
   "execution_count": 15,
   "metadata": {},
   "outputs": [
    {
     "data": {
      "text/plain": [
       "YEAR                    0.00\n",
       "MONTH                   0.00\n",
       "DAY                     0.00\n",
       "DAY_OF_WEEK             0.00\n",
       "AIRLINE                 0.00\n",
       "FLIGHT_NUMBER           0.00\n",
       "TAIL_NUMBER             0.25\n",
       "ORIGIN_AIRPORT          0.00\n",
       "DESTINATION_AIRPORT     0.00\n",
       "SCHEDULED_DEPARTURE     0.00\n",
       "DEPARTURE_TIME          1.48\n",
       "DEPARTURE_DELAY         1.48\n",
       "TAXI_OUT                1.53\n",
       "WHEELS_OFF              1.53\n",
       "SCHEDULED_TIME          0.00\n",
       "ELAPSED_TIME            1.81\n",
       "AIR_TIME                1.81\n",
       "DISTANCE                0.00\n",
       "WHEELS_ON               1.59\n",
       "TAXI_IN                 1.59\n",
       "SCHEDULED_ARRIVAL       0.00\n",
       "ARRIVAL_TIME            1.59\n",
       "ARRIVAL_DELAY           1.81\n",
       "DIVERTED                0.00\n",
       "CANCELLED               0.00\n",
       "CANCELLATION_REASON    98.46\n",
       "AIR_SYSTEM_DELAY       81.72\n",
       "SECURITY_DELAY         81.72\n",
       "AIRLINE_DELAY          81.72\n",
       "LATE_AIRCRAFT_DELAY    81.72\n",
       "WEATHER_DELAY          81.72\n",
       "dtype: float64"
      ]
     },
     "execution_count": 15,
     "metadata": {},
     "output_type": "execute_result"
    }
   ],
   "source": [
    "# Verificando porcentagem de valores nulos \n",
    "df_flights.isnull().mean().round(4)*100"
   ]
  },
  {
   "cell_type": "markdown",
   "metadata": {},
   "source": [
    "#### Exclusão das variáveis com grande quantidade de valores nulos\n",
    "- Devido a grande quantidade de valores nulos nessas colunas, optei por retilá-las pois dificultaria uma análise correta sobre os dados.\n",
    "  - CANCELLATION_REASON    98.46\n",
    "  - AIR_SYSTEM_DELAY       81.72\n",
    "  - SECURITY_DELAY         81.72\n",
    "  - AIRLINE_DELAY          81.72\n",
    "  - LATE_AIRCRAFT_DELAY    81.72\n",
    "  - WEATHER_DELAY          81.72\n"
   ]
  },
  {
   "cell_type": "code",
   "execution_count": 16,
   "metadata": {},
   "outputs": [],
   "source": [
    "# Dropando as colunas\n",
    "df_flights = df_flights.drop(columns=['CANCELLATION_REASON', 'AIR_SYSTEM_DELAY', 'SECURITY_DELAY', 'AIRLINE_DELAY', 'LATE_AIRCRAFT_DELAY', 'WEATHER_DELAY'])"
   ]
  },
  {
   "cell_type": "markdown",
   "metadata": {},
   "source": [
    "- A variável 'CANCELLED' não faz sentido para essa análise visto que se o voo foi cancelado significa que nao teve atraso e o que estamos analisando aqui são justamente os atrasos."
   ]
  },
  {
   "cell_type": "code",
   "execution_count": 17,
   "metadata": {},
   "outputs": [],
   "source": [
    "# Dropando coluna\n",
    "df_flights = df_flights.drop(columns=['CANCELLED'])"
   ]
  },
  {
   "cell_type": "markdown",
   "metadata": {},
   "source": [
    "- As demais variáveis tem uma quantidade inferior a 2% de dados nulos, então optei por retirar esses valores \n",
    "- Foi avaliado também as variáveis que não tinham valores nulos e devido a essa retirada foram perdidos, mesmo assim optei por essa escolha."
   ]
  },
  {
   "cell_type": "code",
   "execution_count": 18,
   "metadata": {},
   "outputs": [],
   "source": [
    "# Dropando valores nulos no restante das variáveis com menos de 2%\n",
    "df_flights = df_flights.dropna(axis=0)"
   ]
  },
  {
   "cell_type": "markdown",
   "metadata": {},
   "source": [
    "- Optarei por trabalhar com a variável 'DAY_OF_WEEK' como categórica, mostrando os dias da semana. \n",
    "- Segundo análise feita, o número 1 se refere a segunda feira e assim por diante."
   ]
  },
  {
   "cell_type": "code",
   "execution_count": 19,
   "metadata": {},
   "outputs": [],
   "source": [
    "# Funnção para atender ao requisito acima\n",
    "def MudarValor(x):\n",
    "    if x == 1:\n",
    "        x = 'Segunda'\n",
    "    if x == 2:\n",
    "        x = 'Terca'\n",
    "    if x == 3:\n",
    "        x = 'Quarta'\n",
    "    if x == 4:\n",
    "        x = 'Quinta'\n",
    "    if x == 5:\n",
    "        x = 'Sexta'\n",
    "    if x == 6:\n",
    "        x = 'Sabado'\n",
    "    if x == 7:\n",
    "        x = 'Domingo'\n",
    "    return x\n",
    "\n",
    "df_flights['DAY_OF_WEEK'] = df_flights['DAY_OF_WEEK'].apply(lambda x: MudarValor(x))"
   ]
  },
  {
   "cell_type": "markdown",
   "metadata": {},
   "source": [
    "- Optarei por trabalhar com as variáveis 'ARRIVAL_DELAY' e 'DEPARTURE_DELAY' como boolean\n",
    "- As variáveis estão representadas em minutos: \n",
    "  - 0 sem atraso\n",
    "  - minutos negativos para voos adiantados\n",
    "  - minutos positivos para a contagem de atraso"
   ]
  },
  {
   "cell_type": "code",
   "execution_count": 20,
   "metadata": {},
   "outputs": [],
   "source": [
    "# Função para atender aos requisitos acima\n",
    "# 1 = atrasou\n",
    "# 0 = não atrasou ou chegou adiantado\n",
    "\n",
    "def MudarValor(x):\n",
    "    if x <= 0:\n",
    "        x = 0\n",
    "    else: \n",
    "        x = 1\n",
    "    return x\n",
    "\n",
    "df_flights['ARRIVAL_DELAY'] = df_flights['ARRIVAL_DELAY'].apply(lambda x: MudarValor(x))\n",
    "df_flights['DEPARTURE_DELAY'] = df_flights['DEPARTURE_DELAY'].apply(lambda x: MudarValor(x))"
   ]
  },
  {
   "cell_type": "code",
   "execution_count": 21,
   "metadata": {},
   "outputs": [],
   "source": [
    "# Transformando os tipos de algumas variáveis \n",
    "df_flights.DAY_OF_WEEK = df_flights.DAY_OF_WEEK.astype('category')\n",
    "df_flights.FLIGHT_NUMBER = df_flights.FLIGHT_NUMBER.astype('category')\n",
    "df_flights.ARRIVAL_DELAY = df_flights.ARRIVAL_DELAY.astype('int64')\n",
    "df_flights.DEPARTURE_DELAY = df_flights.DEPARTURE_DELAY.astype('int64')\n",
    "df_flights.DAY = df_flights.DAY.astype('category')\n",
    "df_flights.MONTH = df_flights.MONTH.astype('category')\n",
    "df_flights.YEAR = df_flights.YEAR.astype('category')\n",
    "df_flights.ORIGIN_AIRPORT  = df_flights.ORIGIN_AIRPORT.astype('str')\n",
    "df_flights.DESTINATION_AIRPORT = df_flights.DESTINATION_AIRPORT.astype('str')"
   ]
  },
  {
   "cell_type": "code",
   "execution_count": 22,
   "metadata": {},
   "outputs": [
    {
     "data": {
      "text/plain": [
       "DIVERTED\n",
       "0           5714008\n",
       "dtype: int64"
      ]
     },
     "execution_count": 22,
     "metadata": {},
     "output_type": "execute_result"
    }
   ],
   "source": [
    "# verificando a distribuição da variável de desvio de voo (pouso em aeroporto fora do cronograma)\n",
    "df_flights[[\"DIVERTED\"]].value_counts(sort = False)"
   ]
  },
  {
   "cell_type": "code",
   "execution_count": 23,
   "metadata": {},
   "outputs": [],
   "source": [
    "df_flights = df_flights.drop(columns=['DIVERTED'])"
   ]
  },
  {
   "cell_type": "markdown",
   "metadata": {},
   "source": [
    "- Após o tratamento do dataframe a variável 'DIVERTED' ficou apenas com valores 0 (sem desvio de voo), devido as linhas que foram dropadas. Como eram apenas menos de 2 % de valores perdidos, optei por manter essa decisão e não trabalhar com essa variável. \n",
    "- Menos de 2% de valores referentes aos voos desviados nao seriam suficientes para se fazer uma análise se teria relação com os atrasos dos voos."
   ]
  },
  {
   "cell_type": "code",
   "execution_count": 24,
   "metadata": {},
   "outputs": [
    {
     "name": "stdout",
     "output_type": "stream",
     "text": [
      "<class 'pandas.core.frame.DataFrame'>\n",
      "Int64Index: 5714008 entries, 0 to 5819078\n",
      "Data columns (total 23 columns):\n",
      " #   Column               Dtype   \n",
      "---  ------               -----   \n",
      " 0   YEAR                 category\n",
      " 1   MONTH                category\n",
      " 2   DAY                  category\n",
      " 3   DAY_OF_WEEK          category\n",
      " 4   AIRLINE              category\n",
      " 5   FLIGHT_NUMBER        category\n",
      " 6   TAIL_NUMBER          category\n",
      " 7   ORIGIN_AIRPORT       object  \n",
      " 8   DESTINATION_AIRPORT  object  \n",
      " 9   SCHEDULED_DEPARTURE  int64   \n",
      " 10  DEPARTURE_TIME       float64 \n",
      " 11  DEPARTURE_DELAY      int64   \n",
      " 12  TAXI_OUT             float64 \n",
      " 13  WHEELS_OFF           float64 \n",
      " 14  SCHEDULED_TIME       float64 \n",
      " 15  ELAPSED_TIME         float64 \n",
      " 16  AIR_TIME             float64 \n",
      " 17  DISTANCE             int64   \n",
      " 18  WHEELS_ON            float64 \n",
      " 19  TAXI_IN              float64 \n",
      " 20  SCHEDULED_ARRIVAL    int64   \n",
      " 21  ARRIVAL_TIME         float64 \n",
      " 22  ARRIVAL_DELAY        int64   \n",
      "dtypes: category(7), float64(9), int64(5), object(2)\n",
      "memory usage: 790.6+ MB\n"
     ]
    }
   ],
   "source": [
    "# Verificando o dataset tratado\n",
    "df_flights.info()"
   ]
  },
  {
   "cell_type": "code",
   "execution_count": 25,
   "metadata": {},
   "outputs": [
    {
     "data": {
      "text/plain": [
       "(5714008, 23)"
      ]
     },
     "execution_count": 25,
     "metadata": {},
     "output_type": "execute_result"
    }
   ],
   "source": [
    "# verificando tamanho depois dos tratamentos\n",
    "df_flights.shape"
   ]
  },
  {
   "cell_type": "code",
   "execution_count": 26,
   "metadata": {},
   "outputs": [
    {
     "name": "stdout",
     "output_type": "stream",
     "text": [
      "target: ARRIVAL_DELAY\n",
      "\n",
      "Variáveis numéricas(14): ['SCHEDULED_DEPARTURE', 'DEPARTURE_TIME', 'DEPARTURE_DELAY', 'TAXI_OUT', 'WHEELS_OFF', 'SCHEDULED_TIME', 'ELAPSED_TIME', 'AIR_TIME', 'DISTANCE', 'WHEELS_ON', 'TAXI_IN', 'SCHEDULED_ARRIVAL', 'ARRIVAL_TIME', 'ARRIVAL_DELAY']\n",
      "\n",
      "Variáveis Categóricas(9): ['YEAR', 'MONTH', 'DAY', 'DAY_OF_WEEK', 'AIRLINE', 'FLIGHT_NUMBER', 'TAIL_NUMBER', 'ORIGIN_AIRPORT', 'DESTINATION_AIRPORT']\n"
     ]
    }
   ],
   "source": [
    "# Separando as variáveis:\n",
    "# Variável de interesse\n",
    "target = 'ARRIVAL_DELAY'\n",
    "print('target:', target)\n",
    "\n",
    "# Variáveis numéricas\n",
    "vars_num = df_flights.select_dtypes(include=['int', 'float']).columns.tolist()\n",
    "print(f'\\nVariáveis numéricas({len(vars_num)}): {vars_num}')\n",
    "\n",
    "# Variáveis categóricas\n",
    "vars_cat = df_flights.select_dtypes(exclude=['int', 'float']).columns.tolist()\n",
    "print(f'\\nVariáveis Categóricas({len(vars_cat)}): {vars_cat}')"
   ]
  },
  {
   "cell_type": "code",
   "execution_count": 27,
   "metadata": {},
   "outputs": [
    {
     "data": {
      "text/html": [
       "<div>\n",
       "<style scoped>\n",
       "    .dataframe tbody tr th:only-of-type {\n",
       "        vertical-align: middle;\n",
       "    }\n",
       "\n",
       "    .dataframe tbody tr th {\n",
       "        vertical-align: top;\n",
       "    }\n",
       "\n",
       "    .dataframe thead th {\n",
       "        text-align: right;\n",
       "    }\n",
       "</style>\n",
       "<table border=\"1\" class=\"dataframe\">\n",
       "  <thead>\n",
       "    <tr style=\"text-align: right;\">\n",
       "      <th></th>\n",
       "      <th>SCHEDULED_DEPARTURE</th>\n",
       "      <th>DEPARTURE_TIME</th>\n",
       "      <th>TAXI_OUT</th>\n",
       "      <th>WHEELS_OFF</th>\n",
       "      <th>SCHEDULED_TIME</th>\n",
       "      <th>ELAPSED_TIME</th>\n",
       "      <th>AIR_TIME</th>\n",
       "      <th>DISTANCE</th>\n",
       "      <th>WHEELS_ON</th>\n",
       "      <th>TAXI_IN</th>\n",
       "      <th>SCHEDULED_ARRIVAL</th>\n",
       "      <th>ARRIVAL_TIME</th>\n",
       "    </tr>\n",
       "  </thead>\n",
       "  <tbody>\n",
       "    <tr>\n",
       "      <th>count</th>\n",
       "      <td>5714008.00</td>\n",
       "      <td>5714008.00</td>\n",
       "      <td>5714008.00</td>\n",
       "      <td>5714008.00</td>\n",
       "      <td>5714008.00</td>\n",
       "      <td>5714008.00</td>\n",
       "      <td>5714008.00</td>\n",
       "      <td>5714008.00</td>\n",
       "      <td>5714008.00</td>\n",
       "      <td>5714008.00</td>\n",
       "      <td>5714008.00</td>\n",
       "      <td>5714008.00</td>\n",
       "    </tr>\n",
       "    <tr>\n",
       "      <th>mean</th>\n",
       "      <td>1328.91</td>\n",
       "      <td>1335.07</td>\n",
       "      <td>16.07</td>\n",
       "      <td>1357.10</td>\n",
       "      <td>141.89</td>\n",
       "      <td>137.01</td>\n",
       "      <td>113.51</td>\n",
       "      <td>824.46</td>\n",
       "      <td>1471.32</td>\n",
       "      <td>7.43</td>\n",
       "      <td>1493.19</td>\n",
       "      <td>1476.37</td>\n",
       "    </tr>\n",
       "    <tr>\n",
       "      <th>std</th>\n",
       "      <td>483.53</td>\n",
       "      <td>496.42</td>\n",
       "      <td>8.88</td>\n",
       "      <td>498.02</td>\n",
       "      <td>75.31</td>\n",
       "      <td>74.21</td>\n",
       "      <td>72.23</td>\n",
       "      <td>608.66</td>\n",
       "      <td>521.87</td>\n",
       "      <td>5.62</td>\n",
       "      <td>506.90</td>\n",
       "      <td>525.97</td>\n",
       "    </tr>\n",
       "    <tr>\n",
       "      <th>min</th>\n",
       "      <td>1.00</td>\n",
       "      <td>1.00</td>\n",
       "      <td>1.00</td>\n",
       "      <td>1.00</td>\n",
       "      <td>18.00</td>\n",
       "      <td>14.00</td>\n",
       "      <td>7.00</td>\n",
       "      <td>31.00</td>\n",
       "      <td>1.00</td>\n",
       "      <td>1.00</td>\n",
       "      <td>1.00</td>\n",
       "      <td>1.00</td>\n",
       "    </tr>\n",
       "    <tr>\n",
       "      <th>25%</th>\n",
       "      <td>916.00</td>\n",
       "      <td>921.00</td>\n",
       "      <td>11.00</td>\n",
       "      <td>935.00</td>\n",
       "      <td>85.00</td>\n",
       "      <td>82.00</td>\n",
       "      <td>60.00</td>\n",
       "      <td>373.00</td>\n",
       "      <td>1054.00</td>\n",
       "      <td>4.00</td>\n",
       "      <td>1110.00</td>\n",
       "      <td>1058.00</td>\n",
       "    </tr>\n",
       "    <tr>\n",
       "      <th>50%</th>\n",
       "      <td>1325.00</td>\n",
       "      <td>1330.00</td>\n",
       "      <td>14.00</td>\n",
       "      <td>1343.00</td>\n",
       "      <td>123.00</td>\n",
       "      <td>118.00</td>\n",
       "      <td>94.00</td>\n",
       "      <td>650.00</td>\n",
       "      <td>1508.00</td>\n",
       "      <td>6.00</td>\n",
       "      <td>1520.00</td>\n",
       "      <td>1512.00</td>\n",
       "    </tr>\n",
       "    <tr>\n",
       "      <th>75%</th>\n",
       "      <td>1730.00</td>\n",
       "      <td>1740.00</td>\n",
       "      <td>19.00</td>\n",
       "      <td>1754.00</td>\n",
       "      <td>174.00</td>\n",
       "      <td>168.00</td>\n",
       "      <td>144.00</td>\n",
       "      <td>1065.00</td>\n",
       "      <td>1911.00</td>\n",
       "      <td>9.00</td>\n",
       "      <td>1917.00</td>\n",
       "      <td>1916.00</td>\n",
       "    </tr>\n",
       "    <tr>\n",
       "      <th>95%</th>\n",
       "      <td>2115.00</td>\n",
       "      <td>2132.00</td>\n",
       "      <td>31.00</td>\n",
       "      <td>2143.00</td>\n",
       "      <td>309.00</td>\n",
       "      <td>299.00</td>\n",
       "      <td>273.00</td>\n",
       "      <td>2239.00</td>\n",
       "      <td>2243.00</td>\n",
       "      <td>16.00</td>\n",
       "      <td>2247.00</td>\n",
       "      <td>2246.00</td>\n",
       "    </tr>\n",
       "    <tr>\n",
       "      <th>99%</th>\n",
       "      <td>2245.00</td>\n",
       "      <td>2300.00</td>\n",
       "      <td>50.00</td>\n",
       "      <td>2307.00</td>\n",
       "      <td>377.00</td>\n",
       "      <td>367.00</td>\n",
       "      <td>337.00</td>\n",
       "      <td>2588.00</td>\n",
       "      <td>2341.00</td>\n",
       "      <td>30.00</td>\n",
       "      <td>2346.00</td>\n",
       "      <td>2343.00</td>\n",
       "    </tr>\n",
       "    <tr>\n",
       "      <th>max</th>\n",
       "      <td>2359.00</td>\n",
       "      <td>2400.00</td>\n",
       "      <td>225.00</td>\n",
       "      <td>2400.00</td>\n",
       "      <td>718.00</td>\n",
       "      <td>766.00</td>\n",
       "      <td>690.00</td>\n",
       "      <td>4983.00</td>\n",
       "      <td>2400.00</td>\n",
       "      <td>248.00</td>\n",
       "      <td>2400.00</td>\n",
       "      <td>2400.00</td>\n",
       "    </tr>\n",
       "  </tbody>\n",
       "</table>\n",
       "</div>"
      ],
      "text/plain": [
       "       SCHEDULED_DEPARTURE  DEPARTURE_TIME    TAXI_OUT  WHEELS_OFF  \\\n",
       "count           5714008.00      5714008.00  5714008.00  5714008.00   \n",
       "mean               1328.91         1335.07       16.07     1357.10   \n",
       "std                 483.53          496.42        8.88      498.02   \n",
       "min                   1.00            1.00        1.00        1.00   \n",
       "25%                 916.00          921.00       11.00      935.00   \n",
       "50%                1325.00         1330.00       14.00     1343.00   \n",
       "75%                1730.00         1740.00       19.00     1754.00   \n",
       "95%                2115.00         2132.00       31.00     2143.00   \n",
       "99%                2245.00         2300.00       50.00     2307.00   \n",
       "max                2359.00         2400.00      225.00     2400.00   \n",
       "\n",
       "       SCHEDULED_TIME  ELAPSED_TIME    AIR_TIME    DISTANCE   WHEELS_ON  \\\n",
       "count      5714008.00    5714008.00  5714008.00  5714008.00  5714008.00   \n",
       "mean           141.89        137.01      113.51      824.46     1471.32   \n",
       "std             75.31         74.21       72.23      608.66      521.87   \n",
       "min             18.00         14.00        7.00       31.00        1.00   \n",
       "25%             85.00         82.00       60.00      373.00     1054.00   \n",
       "50%            123.00        118.00       94.00      650.00     1508.00   \n",
       "75%            174.00        168.00      144.00     1065.00     1911.00   \n",
       "95%            309.00        299.00      273.00     2239.00     2243.00   \n",
       "99%            377.00        367.00      337.00     2588.00     2341.00   \n",
       "max            718.00        766.00      690.00     4983.00     2400.00   \n",
       "\n",
       "          TAXI_IN  SCHEDULED_ARRIVAL  ARRIVAL_TIME  \n",
       "count  5714008.00         5714008.00    5714008.00  \n",
       "mean         7.43            1493.19       1476.37  \n",
       "std          5.62             506.90        525.97  \n",
       "min          1.00               1.00          1.00  \n",
       "25%          4.00            1110.00       1058.00  \n",
       "50%          6.00            1520.00       1512.00  \n",
       "75%          9.00            1917.00       1916.00  \n",
       "95%         16.00            2247.00       2246.00  \n",
       "99%         30.00            2346.00       2343.00  \n",
       "max        248.00            2400.00       2400.00  "
      ]
     },
     "execution_count": 27,
     "metadata": {},
     "output_type": "execute_result"
    }
   ],
   "source": [
    "# Medidas de resumo das variáveis quantitativas\n",
    "df_flights.drop(columns=['DEPARTURE_DELAY', 'ARRIVAL_DELAY']).describe(percentiles = [.25, .50, .75, .95, .99], include=['int64', 'float64']).round(2)"
   ]
  },
  {
   "cell_type": "code",
   "execution_count": 28,
   "metadata": {},
   "outputs": [
    {
     "data": {
      "image/png": "[encoded data removed]",
      "text/plain": [
       "<Figure size 1008x1008 with 2 Axes>"
      ]
     },
     "metadata": {
      "needs_background": "light"
     },
     "output_type": "display_data"
    }
   ],
   "source": [
    "# Verificando correlacao entre as variaveis \n",
    "corr_matrix = df_flights[vars_num].corr()\n",
    "plot_corr_matrix(corr_matrix)"
   ]
  },
  {
   "cell_type": "markdown",
   "metadata": {},
   "source": [
    "- Verificando o mapa acima, podemos perceber uma maior correlação entre a variável de interesse e a 'DEPARTURE_DELAY', o que na minha opnião já era esperado, pois normalmente se um voo tem atraso na partida, provavelmente ele chegará atrasado no destino. Mesmo levando em consideraçao que o piloto poderia acelerar durante o voo para compensar o atraso da partida e dentre outros detalhes. Por esse motivo não irei colocar a variavel 'DEPARTURE_DELAY' no modelo."
   ]
  },
  {
   "cell_type": "markdown",
   "metadata": {},
   "source": [
    "#### Análise univariada e bivariada de algumas features"
   ]
  },
  {
   "cell_type": "code",
   "execution_count": 29,
   "metadata": {},
   "outputs": [
    {
     "data": {
      "image/png": "[encoded data removed]",
      "text/plain": [
       "<Figure size 1440x1080 with 16 Axes>"
      ]
     },
     "metadata": {
      "needs_background": "light"
     },
     "output_type": "display_data"
    }
   ],
   "source": [
    "# Histograma das variáveis numéricas\n",
    "df_flights.hist(bins=15, figsize=(20,15));"
   ]
  },
  {
   "cell_type": "markdown",
   "metadata": {},
   "source": [
    "- A partir dos histogramas acima, é possivel perceber as diferenças em algumas distribuições, isso devido a algumas serem em horas e outras em minutos e ainda outras serem booleanas.\n",
    "- A distância dos voos vai até 3000 milhas, isso por se tratarem de voos domésticos. Essa mesma análise pode ser feita para o tempo de voo. \n"
   ]
  },
  {
   "cell_type": "code",
   "execution_count": 30,
   "metadata": {},
   "outputs": [
    {
     "data": {
      "text/plain": [
       "ARRIVAL_DELAY\n",
       "0                3627112\n",
       "1                2086896\n",
       "dtype: int64"
      ]
     },
     "execution_count": 30,
     "metadata": {},
     "output_type": "execute_result"
    }
   ],
   "source": [
    "# Distribuição da variável de interesse\n",
    "df_flights[['ARRIVAL_DELAY']].value_counts(sort = False)"
   ]
  },
  {
   "cell_type": "code",
   "execution_count": 31,
   "metadata": {},
   "outputs": [
    {
     "data": {
      "text/plain": [
       "<AxesSubplot:xlabel='ARRIVAL_DELAY', ylabel='count'>"
      ]
     },
     "execution_count": 31,
     "metadata": {},
     "output_type": "execute_result"
    },
    {
     "data": {
      "image/png": "[encoded data removed]",
      "text/plain": [
       "<Figure size 432x288 with 1 Axes>"
      ]
     },
     "metadata": {
      "needs_background": "light"
     },
     "output_type": "display_data"
    }
   ],
   "source": [
    "sns.countplot(data=df_flights, x=\"ARRIVAL_DELAY\")"
   ]
  },
  {
   "cell_type": "code",
   "execution_count": 32,
   "metadata": {},
   "outputs": [
    {
     "data": {
      "text/plain": [
       "DEPARTURE_DELAY\n",
       "0                  3598959\n",
       "1                  2115049\n",
       "dtype: int64"
      ]
     },
     "execution_count": 32,
     "metadata": {},
     "output_type": "execute_result"
    }
   ],
   "source": [
    "# Distribuição da variável DEPARTURE_DELAY\n",
    "df_flights[['DEPARTURE_DELAY']].value_counts(sort = False)"
   ]
  },
  {
   "cell_type": "code",
   "execution_count": 33,
   "metadata": {},
   "outputs": [
    {
     "data": {
      "text/plain": [
       "<AxesSubplot:xlabel='DEPARTURE_DELAY', ylabel='count'>"
      ]
     },
     "execution_count": 33,
     "metadata": {},
     "output_type": "execute_result"
    },
    {
     "data": {
      "image/png": "[encoded data removed]",
      "text/plain": [
       "<Figure size 432x288 with 1 Axes>"
      ]
     },
     "metadata": {
      "needs_background": "light"
     },
     "output_type": "display_data"
    }
   ],
   "source": [
    "# visualizando a variável DEPARTURE_DELAY\n",
    "sns.countplot(data=df_flights, x=\"DEPARTURE_DELAY\")"
   ]
  },
  {
   "cell_type": "code",
   "execution_count": 34,
   "metadata": {},
   "outputs": [
    {
     "data": {
      "text/plain": [
       "DAY_OF_WEEK\n",
       "Domingo        802555\n",
       "Quarta         843242\n",
       "Quinta         857886\n",
       "Sabado         689745\n",
       "Segunda        841794\n",
       "Sexta          851387\n",
       "Terca          827399\n",
       "dtype: int64"
      ]
     },
     "execution_count": 34,
     "metadata": {},
     "output_type": "execute_result"
    }
   ],
   "source": [
    "# Verificando a distribuiição dos voos entre os dias da semana \n",
    "df_flights[['DAY_OF_WEEK']].value_counts(sort = False)"
   ]
  },
  {
   "cell_type": "code",
   "execution_count": 35,
   "metadata": {},
   "outputs": [
    {
     "data": {
      "image/png": "[encoded data removed]",
      "text/plain": [
       "<Figure size 432x288 with 1 Axes>"
      ]
     },
     "metadata": {
      "needs_background": "light"
     },
     "output_type": "display_data"
    }
   ],
   "source": [
    "# Verificando a distribuiição dos voos entre os dias da semana\n",
    "grafico_barras_prop(df_flights, variable = \"DAY_OF_WEEK\")"
   ]
  },
  {
   "cell_type": "code",
   "execution_count": 36,
   "metadata": {},
   "outputs": [
    {
     "data": {
      "text/plain": [
       "<AxesSubplot:xlabel='DAY_OF_WEEK', ylabel='ARRIVAL_DELAY'>"
      ]
     },
     "execution_count": 36,
     "metadata": {},
     "output_type": "execute_result"
    },
    {
     "data": {
      "image/png": "[encoded data removed]",
      "text/plain": [
       "<Figure size 432x288 with 1 Axes>"
      ]
     },
     "metadata": {
      "needs_background": "light"
     },
     "output_type": "display_data"
    }
   ],
   "source": [
    "# Verificando relação entre os dias da semana e os atrasos nas chegadas ao destino\n",
    "sns.barplot(data=df_flights, x=\"DAY_OF_WEEK\", y=\"ARRIVAL_DELAY\")"
   ]
  },
  {
   "cell_type": "markdown",
   "metadata": {},
   "source": [
    "- Com as duas análises acima, não se ver uma diferença significante dos voos entre os dias da semana; \n",
    "- É possivel perceber também que no sábado se tem uma menor quantidade de voos e também de atrasos;\n",
    "- Nos demais dias, percebemos uma distribuição bem parecida."
   ]
  },
  {
   "cell_type": "code",
   "execution_count": 37,
   "metadata": {},
   "outputs": [
    {
     "data": {
      "text/plain": [
       "MONTH\n",
       "1        457013\n",
       "2        407663\n",
       "3        492138\n",
       "4        479251\n",
       "5        489641\n",
       "6        492847\n",
       "7        514384\n",
       "8        503956\n",
       "9        462153\n",
       "10       482878\n",
       "11       462367\n",
       "12       469717\n",
       "dtype: int64"
      ]
     },
     "execution_count": 37,
     "metadata": {},
     "output_type": "execute_result"
    }
   ],
   "source": [
    "# Verificando a distribuiição dos voos entre os meses do ano \n",
    "df_flights[['MONTH']].value_counts(sort = False)"
   ]
  },
  {
   "cell_type": "code",
   "execution_count": 38,
   "metadata": {},
   "outputs": [
    {
     "data": {
      "image/png": "[encoded data removed]",
      "text/plain": [
       "<Figure size 432x288 with 1 Axes>"
      ]
     },
     "metadata": {
      "needs_background": "light"
     },
     "output_type": "display_data"
    }
   ],
   "source": [
    "# Verificando a distribuiição dos voos entre os meses do ano \n",
    "grafico_barras_prop(df_flights, variable = \"MONTH\")"
   ]
  },
  {
   "cell_type": "code",
   "execution_count": 39,
   "metadata": {},
   "outputs": [
    {
     "data": {
      "text/plain": [
       "<AxesSubplot:xlabel='MONTH', ylabel='ARRIVAL_DELAY'>"
      ]
     },
     "execution_count": 39,
     "metadata": {},
     "output_type": "execute_result"
    },
    {
     "data": {
      "image/png": "[encoded data removed]",
      "text/plain": [
       "<Figure size 432x288 with 1 Axes>"
      ]
     },
     "metadata": {
      "needs_background": "light"
     },
     "output_type": "display_data"
    }
   ],
   "source": [
    "# Verificando relação entre os os meses do ano e os atrasos nas chegadas ao destino\n",
    "sns.barplot(data=df_flights, x=\"MONTH\", y=\"ARRIVAL_DELAY\")"
   ]
  },
  {
   "cell_type": "markdown",
   "metadata": {},
   "source": [
    "- Já em relação aos meses do ano, não necessariamente os meses com maior quantidade de voos tem maior quantidade de atrasos.\n",
    "- Os meses entre dezembro e março tem um aumento de atrasos que podem estar relacionados ao período de inverno.\n",
    "- Os meses de junho a setembro são meses de verão, onde observamos também uma maior quantidades de atrasos nos dois primeiros meses."
   ]
  },
  {
   "cell_type": "code",
   "execution_count": 40,
   "metadata": {},
   "outputs": [
    {
     "data": {
      "text/plain": [
       "AIRLINE\n",
       "AA          712935\n",
       "AS          171439\n",
       "B6          262042\n",
       "DL          870275\n",
       "EV          554752\n",
       "F9           90090\n",
       "HA           76041\n",
       "MQ          278791\n",
       "NK          115193\n",
       "OO          576814\n",
       "UA          507762\n",
       "US          194223\n",
       "VX           61248\n",
       "WN         1242403\n",
       "dtype: int64"
      ]
     },
     "execution_count": 40,
     "metadata": {},
     "output_type": "execute_result"
    }
   ],
   "source": [
    "# Verificando a distribuição dos voos entre as companhias aereas\n",
    "df_flights[['AIRLINE']].value_counts(sort = False)"
   ]
  },
  {
   "cell_type": "code",
   "execution_count": 41,
   "metadata": {},
   "outputs": [
    {
     "data": {
      "text/plain": [
       "<AxesSubplot:xlabel='AIRLINE', ylabel='ARRIVAL_DELAY'>"
      ]
     },
     "execution_count": 41,
     "metadata": {},
     "output_type": "execute_result"
    },
    {
     "data": {
      "image/png": "[encoded data removed]",
      "text/plain": [
       "<Figure size 432x288 with 1 Axes>"
      ]
     },
     "metadata": {
      "needs_background": "light"
     },
     "output_type": "display_data"
    }
   ],
   "source": [
    "# Verificando relação entre as companhias aereas e os atrasos nas chegadas ao destino\n",
    "sns.barplot(data=df_flights, x=\"AIRLINE\", y=\"ARRIVAL_DELAY\") "
   ]
  },
  {
   "cell_type": "markdown",
   "metadata": {},
   "source": [
    "- Aqui também não é possível associar os atrasos as companhias com maior quantidade de voos\n",
    "- As companhias com maior número de atrasos são:  \n",
    "  - NK - Spirit Air Lines\n",
    "  - F9 - Frontier Airlines Inc."
   ]
  },
  {
   "cell_type": "code",
   "execution_count": 42,
   "metadata": {},
   "outputs": [
    {
     "data": {
      "text/plain": [
       "<AxesSubplot:xlabel='ARRIVAL_DELAY', ylabel='DISTANCE'>"
      ]
     },
     "execution_count": 42,
     "metadata": {},
     "output_type": "execute_result"
    },
    {
     "data": {
      "image/png": "[encoded data removed]",
      "text/plain": [
       "<Figure size 432x288 with 1 Axes>"
      ]
     },
     "metadata": {
      "needs_background": "light"
     },
     "output_type": "display_data"
    }
   ],
   "source": [
    "# Verificando relação entre a distância e os atrasos nas chegadas ao destino\n",
    "sns.boxplot(data=df_flights, x=\"ARRIVAL_DELAY\", y=\"DISTANCE\")"
   ]
  },
  {
   "cell_type": "markdown",
   "metadata": {},
   "source": [
    "- Em ambos os casos, estão bem parecidos, não podendo ser possível fazer alguma associação em relação as distâncias e os atrasos"
   ]
  },
  {
   "cell_type": "markdown",
   "metadata": {},
   "source": [
    "- Como a variável 'ORIGIN_AIRPORT' e 'DESTINATION_AIRPORT' tem uma variação grande e visualmente não conseguimos analisar todos, vou mostrar os 5 aeroportos com maior e menor quantidades de atrasos, tanto para o de origem como o de destino."
   ]
  },
  {
   "cell_type": "code",
   "execution_count": 43,
   "metadata": {},
   "outputs": [],
   "source": [
    "# Filtrando apenas aeroportos com atrasos (=1)\n",
    "filtro_atraso_origem = df_flights.ARRIVAL_DELAY == 1\n",
    "df_agrupado_atraso_origem = df_flights.loc[filtro_atraso_origem]"
   ]
  },
  {
   "cell_type": "code",
   "execution_count": 44,
   "metadata": {},
   "outputs": [
    {
     "data": {
      "text/plain": [
       "ORIGIN_AIRPORT\n",
       "ATL    114872\n",
       "ORD    113281\n",
       "DFW     93054\n",
       "DEN     80756\n",
       "LAX     79661\n",
       "Name: ARRIVAL_DELAY, dtype: int64"
      ]
     },
     "execution_count": 44,
     "metadata": {},
     "output_type": "execute_result"
    }
   ],
   "source": [
    "# Contagem dos atrasos por aeroporto de origem (os 5 com mais atrasos)\n",
    "df_agrupado = df_agrupado_atraso_origem.groupby(['ORIGIN_AIRPORT']).ARRIVAL_DELAY.count().sort_values(ascending=False)\n",
    "df_agrupado.head(5)"
   ]
  },
  {
   "cell_type": "code",
   "execution_count": 45,
   "metadata": {},
   "outputs": [],
   "source": [
    "# Filtrando apenas aeroportos de destino com atrasos (=1)\n",
    "filtro_atraso_destino = df_flights.ARRIVAL_DELAY == 1\n",
    "df_agrupado_atraso_destino = df_flights.loc[filtro_atraso_destino]"
   ]
  },
  {
   "cell_type": "code",
   "execution_count": 46,
   "metadata": {},
   "outputs": [
    {
     "data": {
      "text/plain": [
       "DESTINATION_AIRPORT\n",
       "ATL    105603\n",
       "ORD    104224\n",
       "DFW     83312\n",
       "LAX     81985\n",
       "DEN     71443\n",
       "Name: ARRIVAL_DELAY, dtype: int64"
      ]
     },
     "execution_count": 46,
     "metadata": {},
     "output_type": "execute_result"
    }
   ],
   "source": [
    "# Contagem dos atrasos por aeroporto de destino (os 5 com mais atrasos)\n",
    "df_agrupado2 = df_agrupado_atraso_destino.groupby(['DESTINATION_AIRPORT']).ARRIVAL_DELAY.count().sort_values(ascending=False)\n",
    "df_agrupado2.head(5)"
   ]
  },
  {
   "cell_type": "markdown",
   "metadata": {},
   "source": [
    "- Com as análises acima, percebemos que os aeroportos com maior número de atrasos são os mesmos, tanto para os areroportos de origem como de destino."
   ]
  },
  {
   "cell_type": "markdown",
   "metadata": {},
   "source": [
    "### Modelagem \n",
    "- Na etapa de modelagem irei construir alguns modelos para executar a tarefa de classificação dos voos entre atrasados ou sem atrasos. Utilizarei três modelos de classificação: Logistic Regression, Random Forest e XGBoost."
   ]
  },
  {
   "cell_type": "code",
   "execution_count": 47,
   "metadata": {},
   "outputs": [],
   "source": [
    "#Transformando as variáveis textuais para rodar nos modelos\n",
    "label_encoder = LabelEncoder() \n",
    "df_flights['DAY_OF_WEEK_ENCODER'] = label_encoder.fit_transform(df_flights['DAY_OF_WEEK']) \n",
    "df_flights['AIRLINE_ENCODER'] = label_encoder.fit_transform(df_flights['AIRLINE']) \n",
    "df_flights['FLIGHT_NUMBER_ENCODER'] = label_encoder.fit_transform(df_flights['FLIGHT_NUMBER']) \n",
    "df_flights['TAIL_NUMBER_ENCODER'] = label_encoder.fit_transform(df_flights['TAIL_NUMBER']) \n",
    "df_flights['ARRIVAL_DELAY_ENCODER'] = label_encoder.fit_transform(df_flights['ARRIVAL_DELAY']) \n",
    "df_flights['YEAR_ENCODER'] = label_encoder.fit_transform(df_flights['YEAR']) \n",
    "df_flights['MONTH_ENCODER'] = label_encoder.fit_transform(df_flights['MONTH']) \n",
    "df_flights['DAY_ENCODER'] = label_encoder.fit_transform(df_flights['DAY']) \n",
    "df_flights['ORIGIN_AIRPORT_ENCODER'] = label_encoder.fit_transform(df_flights['ORIGIN_AIRPORT']) \n",
    "df_flights['DESTINATION_AIRPORT_ENCODER'] = label_encoder.fit_transform(df_flights['DESTINATION_AIRPORT']) "
   ]
  },
  {
   "cell_type": "markdown",
   "metadata": {},
   "source": [
    "#### Split - Treino/Teste-Básico"
   ]
  },
  {
   "cell_type": "code",
   "execution_count": 48,
   "metadata": {},
   "outputs": [],
   "source": [
    "# Conjunto com variáveis escolhidas \n",
    "X = df_flights[['YEAR_ENCODER', 'MONTH_ENCODER', 'DAY_ENCODER', 'DAY_OF_WEEK_ENCODER', 'AIRLINE_ENCODER', 'FLIGHT_NUMBER_ENCODER', \n",
    "'TAIL_NUMBER_ENCODER', 'SCHEDULED_DEPARTURE', 'DEPARTURE_TIME', 'TAXI_OUT', 'WHEELS_OFF', 'SCHEDULED_TIME', 'ELAPSED_TIME', 'AIR_TIME', \n",
    "'DISTANCE','WHEELS_ON', 'TAXI_IN', 'SCHEDULED_ARRIVAL', 'ARRIVAL_TIME', 'ORIGIN_AIRPORT_ENCODER', 'DESTINATION_AIRPORT_ENCODER']]\n",
    "y = df_flights['ARRIVAL_DELAY_ENCODER']\n",
    "X_train, X_test, y_train, y_test = train_test_split(X, y,\n",
    "                                                    test_size = 0.30, \n",
    "                                                    stratify=y,\n",
    "                                                    random_state = 42)\n",
    "\n",
    "X_train = X_train.astype(np.float32)\n",
    "X_test = X_test.astype(np.float32)"
   ]
  },
  {
   "cell_type": "markdown",
   "metadata": {},
   "source": [
    "#### Treinamento do modelo Logistic Regression "
   ]
  },
  {
   "cell_type": "code",
   "execution_count": 49,
   "metadata": {},
   "outputs": [],
   "source": [
    "# Criando o modelo Regressão Logistica\n",
    "model_reg_log = LogisticRegression()   \n",
    "  \n",
    "# Treinamento do modelo Regressão Logistica\n",
    "model_reg_log.fit(X_train, y_train)\n",
    "\n",
    "# Predições\n",
    "y_pred = model_reg_log.predict(X_test)"
   ]
  },
  {
   "cell_type": "markdown",
   "metadata": {},
   "source": [
    "#### Calculando as métricas do modelo Logistic Regression - Básico"
   ]
  },
  {
   "cell_type": "code",
   "execution_count": 50,
   "metadata": {},
   "outputs": [
    {
     "data": {
      "image/png": "[encoded data removed]",
      "text/plain": [
       "<Figure size 432x288 with 2 Axes>"
      ]
     },
     "metadata": {
      "needs_background": "light"
     },
     "output_type": "display_data"
    }
   ],
   "source": [
    "cm = confusion_matrix(y_test, y_pred)\n",
    "disp = ConfusionMatrixDisplay(confusion_matrix = cm, display_labels=['SEM ATRASO', 'ATRASOU'])\n",
    "_ = disp.plot(values_format='d')"
   ]
  },
  {
   "cell_type": "code",
   "execution_count": 51,
   "metadata": {},
   "outputs": [
    {
     "name": "stdout",
     "output_type": "stream",
     "text": [
      "Acurácia:  0.8149425709790498\n",
      "Precision: 0.7907949948623859\n",
      "Recall: 0.9633124229185008\n",
      "F1 Score: 0.687386302493018\n"
     ]
    }
   ],
   "source": [
    "print(\"Acurácia: \", accuracy_score(y_test, y_pred))\n",
    "print('Precision:', precision_score(y_test, y_pred, pos_label=0))\n",
    "print('Recall:', recall_score(y_test, y_pred, pos_label=0))\n",
    "print('F1 Score:', f1_score(y_test, y_pred))"
   ]
  },
  {
   "cell_type": "code",
   "execution_count": 52,
   "metadata": {},
   "outputs": [
    {
     "data": {
      "text/plain": [
       "<sklearn.metrics._plot.roc_curve.RocCurveDisplay at 0x7f8220e2d640>"
      ]
     },
     "execution_count": 52,
     "metadata": {},
     "output_type": "execute_result"
    },
    {
     "data": {
      "image/png": "[encoded data removed]",
      "text/plain": [
       "<Figure size 432x288 with 1 Axes>"
      ]
     },
     "metadata": {
      "needs_background": "light"
     },
     "output_type": "display_data"
    }
   ],
   "source": [
    "plot_roc_curve(model_reg_log, X_test, y_test)"
   ]
  },
  {
   "cell_type": "code",
   "execution_count": 53,
   "metadata": {},
   "outputs": [
    {
     "name": "stdout",
     "output_type": "stream",
     "text": [
      "Running permutation feature importance\n"
     ]
    }
   ],
   "source": [
    "# Importância das features, removendo variáveis pouco importantes\n",
    "print('Running permutation feature importance')\n",
    "permutation_result = permutation_importance(model_reg_log,  X_test, y_test, n_repeats=5, random_state=42)"
   ]
  },
  {
   "cell_type": "code",
   "execution_count": 54,
   "metadata": {},
   "outputs": [
    {
     "data": {
      "image/png": "[encoded data removed]",
      "text/plain": [
       "<Figure size 1440x576 with 1 Axes>"
      ]
     },
     "metadata": {
      "needs_background": "light"
     },
     "output_type": "display_data"
    }
   ],
   "source": [
    "# plotando o permutation feature importance\n",
    "importances = pd.DataFrame({'column' : X_test.columns, 'importance': permutation_result.importances_mean})\n",
    "importances.sort_values(by='importance', ascending=False, inplace=True)\n",
    "\n",
    "fig, axs = plt.subplots(figsize=(20,8))\n",
    "ax = sns.barplot(x='column', y=\"importance\", data=importances)\n",
    "plt.xticks(rotation=90)\n",
    "plt.tight_layout()"
   ]
  },
  {
   "cell_type": "markdown",
   "metadata": {},
   "source": [
    "#### Treinamento do modelo RandomForest "
   ]
  },
  {
   "cell_type": "code",
   "execution_count": 55,
   "metadata": {},
   "outputs": [
    {
     "data": {
      "text/plain": [
       "RandomForestClassifier(n_estimators=5, random_state=42)"
      ]
     },
     "execution_count": 55,
     "metadata": {},
     "output_type": "execute_result"
    }
   ],
   "source": [
    "# Criando o modelo Random Forest \n",
    "model_ran_forest = RandomForestClassifier(n_estimators = 5, random_state = 42)   \n",
    "  \n",
    "# Treinamento do modelo Random Forest em CPU\n",
    "model_ran_forest.fit(X_train, y_train)"
   ]
  },
  {
   "cell_type": "code",
   "execution_count": 56,
   "metadata": {},
   "outputs": [],
   "source": [
    "# Predições\n",
    "y_pred = model_ran_forest.predict(X_test)"
   ]
  },
  {
   "cell_type": "markdown",
   "metadata": {},
   "source": [
    "#### Calculando as métricas do modelo RandomForest"
   ]
  },
  {
   "cell_type": "code",
   "execution_count": 57,
   "metadata": {},
   "outputs": [
    {
     "data": {
      "image/png": "[encoded data removed]",
      "text/plain": [
       "<Figure size 432x288 with 2 Axes>"
      ]
     },
     "metadata": {
      "needs_background": "light"
     },
     "output_type": "display_data"
    }
   ],
   "source": [
    "cm = confusion_matrix(y_test, y_pred)\n",
    "disp = ConfusionMatrixDisplay(confusion_matrix = cm, display_labels=['SEM ATRASO', 'ATRASOU'])\n",
    "_ = disp.plot(values_format='d')"
   ]
  },
  {
   "cell_type": "code",
   "execution_count": 58,
   "metadata": {},
   "outputs": [
    {
     "name": "stdout",
     "output_type": "stream",
     "text": [
      "Acurácia:  0.9308704978348539\n",
      "Precision: 0.9359518958066193\n",
      "Recall: 0.9565540641134272\n",
      "F1 Score: 0.9035146142359545\n"
     ]
    }
   ],
   "source": [
    "print(\"Acurácia: \", accuracy_score(y_test, y_pred))\n",
    "print('Precision:', precision_score(y_test, y_pred, pos_label=0))\n",
    "print('Recall:', recall_score(y_test, y_pred, pos_label=0))\n",
    "print('F1 Score:', f1_score(y_test, y_pred))"
   ]
  },
  {
   "cell_type": "code",
   "execution_count": 59,
   "metadata": {},
   "outputs": [
    {
     "data": {
      "text/plain": [
       "<sklearn.metrics._plot.roc_curve.RocCurveDisplay at 0x7f822a6202e0>"
      ]
     },
     "execution_count": 59,
     "metadata": {},
     "output_type": "execute_result"
    },
    {
     "data": {
      "image/png": "[encoded data removed]",
      "text/plain": [
       "<Figure size 432x288 with 1 Axes>"
      ]
     },
     "metadata": {
      "needs_background": "light"
     },
     "output_type": "display_data"
    }
   ],
   "source": [
    "plot_roc_curve(model_ran_forest, X_test, y_test)"
   ]
  },
  {
   "cell_type": "code",
   "execution_count": 60,
   "metadata": {},
   "outputs": [
    {
     "name": "stdout",
     "output_type": "stream",
     "text": [
      "Running permutation feature importance\n"
     ]
    }
   ],
   "source": [
    "# Importância das features, removendo variáveis pouco importantes\n",
    "print('Running permutation feature importance')\n",
    "permutation_result = permutation_importance(model_ran_forest,  X_test, y_test, n_repeats=5, random_state=42)"
   ]
  },
  {
   "cell_type": "code",
   "execution_count": 61,
   "metadata": {},
   "outputs": [
    {
     "data": {
      "image/png": "[encoded data removed]",
      "text/plain": [
       "<Figure size 1440x576 with 1 Axes>"
      ]
     },
     "metadata": {
      "needs_background": "light"
     },
     "output_type": "display_data"
    }
   ],
   "source": [
    "# plotando o permutation feature importance\n",
    "importances = pd.DataFrame({'column' : X_test.columns, 'importance': permutation_result.importances_mean})\n",
    "importances.sort_values(by='importance', ascending=False, inplace=True)\n",
    "\n",
    "fig, axs = plt.subplots(figsize=(20,8))\n",
    "ax = sns.barplot(x='column', y=\"importance\", data=importances)\n",
    "plt.xticks(rotation=90)\n",
    "plt.tight_layout()"
   ]
  },
  {
   "cell_type": "markdown",
   "metadata": {},
   "source": [
    "#### Treinamento do modelo XGBoost"
   ]
  },
  {
   "cell_type": "code",
   "execution_count": 62,
   "metadata": {},
   "outputs": [
    {
     "data": {
      "text/plain": [
       "XGBClassifier(alpha=10, base_score=0.5, booster='gbtree', callbacks=None,\n",
       "              colsample_bylevel=1, colsample_bynode=1, colsample_bytree=0.3,\n",
       "              early_stopping_rounds=None, enable_categorical=False,\n",
       "              eval_metric=None, feature_types=None, gamma=0, gpu_id=-1,\n",
       "              grow_policy='depthwise', importance_type=None,\n",
       "              interaction_constraints='', learning_rate=0.1, max_bin=256,\n",
       "              max_cat_threshold=64, max_cat_to_onehot=4, max_delta_step=0,\n",
       "              max_depth=5, max_leaves=0, min_child_weight=1, missing=nan,\n",
       "              monotone_constraints='()', n_estimators=100, n_jobs=0,\n",
       "              num_parallel_tree=1, predictor='auto', ...)"
      ]
     },
     "execution_count": 62,
     "metadata": {},
     "output_type": "execute_result"
    }
   ],
   "source": [
    "# Parametrização do XGBoost\n",
    "params = {'learning_rate': 0.1,\n",
    "          'colsample_bytree' : 0.3,\n",
    "          'max_depth': 5,\n",
    "          'objective': 'binary:logistic',\n",
    "          'alpha' : 10,\n",
    "          'n_estimators': 100}\n",
    "\n",
    "# Treinamento do modelo XGBoost\n",
    "model_XGboost = XGBClassifier(**params)\n",
    "model_XGboost.fit(X_train, y_train, eval_set=[(X_train, y_train), (X_test, y_test)],\n",
    "                      eval_metric='auc', verbose=False)"
   ]
  },
  {
   "cell_type": "code",
   "execution_count": 63,
   "metadata": {},
   "outputs": [],
   "source": [
    "# Predições\n",
    "y_pred = model_XGboost.predict(X_test)"
   ]
  },
  {
   "cell_type": "markdown",
   "metadata": {},
   "source": [
    "#### Calculando as métricas do modelo XGBoost "
   ]
  },
  {
   "cell_type": "code",
   "execution_count": 64,
   "metadata": {},
   "outputs": [
    {
     "data": {
      "image/png": "[encoded data removed]",
      "text/plain": [
       "<Figure size 432x288 with 2 Axes>"
      ]
     },
     "metadata": {
      "needs_background": "light"
     },
     "output_type": "display_data"
    }
   ],
   "source": [
    "cm = confusion_matrix(y_test, y_pred.astype(np.int64))\n",
    "disp = ConfusionMatrixDisplay(confusion_matrix = cm, display_labels=['SEM ATRASO', 'ATRASOU'])\n",
    "_ = disp.plot(values_format='d')"
   ]
  },
  {
   "cell_type": "code",
   "execution_count": 65,
   "metadata": {},
   "outputs": [
    {
     "name": "stdout",
     "output_type": "stream",
     "text": [
      "Acurácia:  0.788275367619821\n",
      "Precision: 0.7670790731865051\n",
      "Recall: 0.957067787607041\n",
      "F1 Score: 0.6306456849010462\n"
     ]
    }
   ],
   "source": [
    "print(\"Acurácia: \", accuracy_score(y_test, y_pred))\n",
    "print('Precision:', precision_score(y_test, y_pred, pos_label=0))\n",
    "print('Recall:', recall_score(y_test, y_pred, pos_label=0))\n",
    "print('F1 Score:', f1_score(y_test, y_pred))"
   ]
  },
  {
   "cell_type": "code",
   "execution_count": 66,
   "metadata": {},
   "outputs": [
    {
     "data": {
      "text/plain": [
       "<sklearn.metrics._plot.roc_curve.RocCurveDisplay at 0x7f8217a51640>"
      ]
     },
     "execution_count": 66,
     "metadata": {},
     "output_type": "execute_result"
    },
    {
     "data": {
      "image/png": "[encoded data removed]",
      "text/plain": [
       "<Figure size 432x288 with 1 Axes>"
      ]
     },
     "metadata": {
      "needs_background": "light"
     },
     "output_type": "display_data"
    }
   ],
   "source": [
    "plot_roc_curve(model_XGboost, X_test, y_test)"
   ]
  },
  {
   "cell_type": "code",
   "execution_count": 67,
   "metadata": {},
   "outputs": [
    {
     "name": "stdout",
     "output_type": "stream",
     "text": [
      "Running permutation feature importance\n"
     ]
    }
   ],
   "source": [
    "# Importância das features, removendo variáveis pouco importantes\n",
    "print('Running permutation feature importance')\n",
    "permutation_result = permutation_importance(model_XGboost,  X_test, y_test, n_repeats=5, random_state=42)"
   ]
  },
  {
   "cell_type": "code",
   "execution_count": 68,
   "metadata": {},
   "outputs": [
    {
     "data": {
      "image/png": "[encoded data removed]",
      "text/plain": [
       "<Figure size 1440x576 with 1 Axes>"
      ]
     },
     "metadata": {
      "needs_background": "light"
     },
     "output_type": "display_data"
    }
   ],
   "source": [
    "# plotando o permutation feature importance\n",
    "importances = pd.DataFrame({'column' : X_test.columns, 'importance': permutation_result.importances_mean})\n",
    "importances.sort_values(by='importance', ascending=False, inplace=True)\n",
    "\n",
    "fig, axs = plt.subplots(figsize=(20,8))\n",
    "ax = sns.barplot(x='column', y=\"importance\", data=importances)\n",
    "plt.xticks(rotation=90)\n",
    "plt.tight_layout()"
   ]
  },
  {
   "cell_type": "markdown",
   "metadata": {},
   "source": [
    "#### Comparação dos 3 modelos"
   ]
  },
  {
   "cell_type": "code",
   "execution_count": 69,
   "metadata": {},
   "outputs": [
    {
     "data": {
      "image/png": "[encoded data removed]",
      "text/plain": [
       "<Figure size 432x288 with 1 Axes>"
      ]
     },
     "metadata": {
      "needs_background": "light"
     },
     "output_type": "display_data"
    }
   ],
   "source": [
    "# Comparando as curvas roc dos 3 modelos\n",
    "classifiers = [model_reg_log, model_ran_forest, model_XGboost]\n",
    "ax = plt.gca()\n",
    "for i in classifiers:\n",
    "    plot_roc_curve(i, X_test, y_test, ax=ax)"
   ]
  },
  {
   "cell_type": "code",
   "execution_count": 70,
   "metadata": {},
   "outputs": [
    {
     "name": "stdout",
     "output_type": "stream",
     "text": [
      "**LogisticRegression**\n",
      "Acurácia: 0.81\n",
      "Precisão: 0.9\n",
      "Recall: 0.56\n",
      "RF1 Score: 0.69\n",
      "__________________\n",
      "**RandomForestClassifier**\n",
      "Acurácia: 0.93\n",
      "Precisão: 0.92\n",
      "Recall: 0.89\n",
      "RF1 Score: 0.9\n",
      "__________________\n",
      "**XGBClassifier**\n",
      "Acurácia: 0.79\n",
      "Precisão: 0.87\n",
      "Recall: 0.49\n",
      "RF1 Score: 0.63\n",
      "__________________\n"
     ]
    }
   ],
   "source": [
    "# Comparação das métricas dos 3 modelos \n",
    "for i in classifiers:\n",
    "    y_pred = i.predict(X_test)\n",
    "    print(f'**{type(i).__name__}**')\n",
    "    print(f'Acurácia: {round(accuracy_score(y_test, y_pred), 2)}\\nPrecisão: {round(precision_score(y_test, y_pred), 2)}\\nRecall: {round(recall_score(y_test, y_pred), 2)}\\nRF1 Score: {round(f1_score(y_test, y_pred), 2)}')\n",
    "    print('__________________')"
   ]
  },
  {
   "cell_type": "markdown",
   "metadata": {},
   "source": [
    "#### Comentários finais \n",
    "- A partir da comparação dos 3 modelos, o segundo modelo RandomForestClassifier foi o que si saiu melhor, tanto em relação a curva roc como das métricas de avaliação. Sendo o modelo escolhido entre os 3.\n",
    "- O XGBClassifier foi o modelo com pior performance. \n",
    "- Observando a matrix de correlação, o modelo escolhido conseguiu errar menos que os demais modelos de forma geral.\n",
    "- Sobre as variáveis com maior importância para os modelos, cada modelo mudou um pouco o peso da importância entre as variáveis, mas no geral as mesmas variáveis se mantem entre as primeiras.\n",
    "- Melhorias futuras:\n",
    "  - Poderia focar em melhorar as métricas do modelo escolhido;\n",
    "  - Testar usar apenas as variáveis com maior relevância no feature importance;\n",
    "  - Fazer um Feature engineering e colocar as novas variáveis no modelo;\n",
    "  - Ampliar as análises feitas inicialmente."
   ]
  }
 ],
 "metadata": {
  "kernelspec": {
   "display_name": "Python 3.9.12 ('base')",
   "language": "python",
   "name": "python3"
  },
  "language_info": {
   "codemirror_mode": {
    "name": "ipython",
    "version": 3
   },
   "file_extension": ".py",
   "mimetype": "text/x-python",
   "name": "python",
   "nbconvert_exporter": "python",
   "pygments_lexer": "ipython3",
   "version": "3.9.12"
  },
  "orig_nbformat": 4,
  "vscode": {
   "interpreter": {
    "hash": "b8bff2b2bcbe7662da225b67a76168972011fb8ad5880d996f6f03081cd42595"
   }
  }
 },
 "nbformat": 4,
 "nbformat_minor": 2
}
